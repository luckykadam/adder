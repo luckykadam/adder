{
 "nbformat": 4,
 "nbformat_minor": 2,
 "metadata": {
  "language_info": {
   "name": "python",
   "codemirror_mode": {
    "name": "ipython",
    "version": 3
   },
   "version": "3.6.8"
  },
  "orig_nbformat": 2,
  "file_extension": ".py",
  "mimetype": "text/x-python",
  "name": "python",
  "npconvert_exporter": "python",
  "pygments_lexer": "ipython3",
  "version": 3
 },
 "cells": [
  {
   "cell_type": "code",
   "execution_count": 1,
   "metadata": {},
   "outputs": [],
   "source": [
    "import numpy as np"
   ]
  },
  {
   "cell_type": "code",
   "execution_count": 2,
   "metadata": {},
   "outputs": [],
   "source": [
    "n_samples = 10000//4"
   ]
  },
  {
   "cell_type": "code",
   "execution_count": 3,
   "metadata": {},
   "outputs": [],
   "source": [
    "x = np.array([[0, 0, 0], [0, 1, 0], [1, 0, 0], [1, 1, 0], [0, 0, 1], [0, 1, 1], [1, 0, 1], [1, 1, 1]] * n_samples) # a, b, c\n",
    "y = np.array([[0, 0], [0, 1], [0, 1], [1, 0], [0, 1], [1, 0], [1, 0], [1, 1]] * n_samples) # c, s"
   ]
  },
  {
   "cell_type": "code",
   "execution_count": 4,
   "metadata": {},
   "outputs": [],
   "source": [
    "from sklearn.model_selection import train_test_split\n",
    "\n",
    "x_train, x_test, y_train, y_test = train_test_split(x, y, test_size=0.1, shuffle=True)"
   ]
  },
  {
   "cell_type": "code",
   "execution_count": 5,
   "metadata": {},
   "outputs": [],
   "source": [
    "import tensorflow as tf\n",
    "from tensorflow.keras import layers, optimizers, losses, metrics, models"
   ]
  },
  {
   "cell_type": "code",
   "execution_count": 6,
   "metadata": {},
   "outputs": [
    {
     "name": "stdout",
     "output_type": "stream",
     "text": "Model: \"sequential\"\n_________________________________________________________________\nLayer (type)                 Output Shape              Param #   \n=================================================================\ndense (Dense)                (None, 3)                 12        \n_________________________________________________________________\ndense_1 (Dense)              (None, 2)                 8         \n=================================================================\nTotal params: 20\nTrainable params: 20\nNon-trainable params: 0\n_________________________________________________________________\n"
    }
   ],
   "source": [
    "model = tf.keras.Sequential()\n",
    "model.add(layers.Dense(units=3, activation='tanh', input_shape=(3, )))\n",
    "model.add(layers.Dense(units=2, activation='sigmoid'))\n",
    "\n",
    "model.summary()"
   ]
  },
  {
   "cell_type": "code",
   "execution_count": 7,
   "metadata": {},
   "outputs": [],
   "source": [
    "model.compile(loss='binary_crossentropy', optimizer='adam', metrics=['accuracy'])"
   ]
  },
  {
   "cell_type": "code",
   "execution_count": null,
   "metadata": {},
   "outputs": [],
   "source": []
  },
  {
   "cell_type": "code",
   "execution_count": 8,
   "metadata": {},
   "outputs": [
    {
     "name": "stdout",
     "output_type": "stream",
     "text": "Train on 18000 samples\nEpoch 1/10\n18000/18000 [==============================] - 1s 71us/sample - loss: 0.6916 - accuracy: 0.5011\nEpoch 2/10\n18000/18000 [==============================] - 1s 36us/sample - loss: 0.5812 - accuracy: 0.6948\nEpoch 3/10\n18000/18000 [==============================] - 1s 34us/sample - loss: 0.4686 - accuracy: 0.7155\nEpoch 4/10\n18000/18000 [==============================] - 1s 35us/sample - loss: 0.3947 - accuracy: 0.8706\nEpoch 5/10\n18000/18000 [==============================] - 1s 37us/sample - loss: 0.3587 - accuracy: 0.8746\nEpoch 6/10\n18000/18000 [==============================] - 1s 37us/sample - loss: 0.3388 - accuracy: 0.8746\nEpoch 7/10\n18000/18000 [==============================] - 1s 35us/sample - loss: 0.3202 - accuracy: 0.8746\nEpoch 8/10\n18000/18000 [==============================] - 1s 34us/sample - loss: 0.2944 - accuracy: 0.8746\nEpoch 9/10\n18000/18000 [==============================] - 1s 36us/sample - loss: 0.2439 - accuracy: 0.9061\nEpoch 10/10\n18000/18000 [==============================] - 1s 44us/sample - loss: 0.1730 - accuracy: 1.0000\n2000/1 - 0s - loss: 0.1416 - accuracy: 1.0000\n[0.14001865994930268, 1.0]\n"
    }
   ],
   "source": [
    "model.fit(x_train, y_train, batch_size=32, epochs=10)\n",
    "scores = model.evaluate(x_test, y_test, verbose=2)\n",
    "print(scores)"
   ]
  }
 ]
}