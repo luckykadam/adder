{
 "nbformat": 4,
 "nbformat_minor": 2,
 "metadata": {
  "language_info": {
   "name": "python",
   "codemirror_mode": {
    "name": "ipython",
    "version": 3
   },
   "version": "3.6.8"
  },
  "orig_nbformat": 2,
  "file_extension": ".py",
  "mimetype": "text/x-python",
  "name": "python",
  "npconvert_exporter": "python",
  "pygments_lexer": "ipython3",
  "version": 3
 },
 "cells": [
  {
   "cell_type": "markdown",
   "execution_count": null,
   "metadata": {},
   "outputs": [],
   "source": [
    "# Binary Full Adder in Keras"
   ]
  },
  {
   "cell_type": "markdown",
   "execution_count": null,
   "metadata": {},
   "outputs": [],
   "source": [
    "## Background\n",
    "\n",
    "Neurons (with non-linear activation) are only capable of learning a linear decision boundary, but when sufficient mulitple units and layers of neuron work together, they can learn theoretically any complex function. This property of NNs has been mathematically proven, and demonstrated via many examples.\n",
    "\n",
    "<p>To understand the fundamentals of how can neural networks achieve this, it is more beneficial for a new-comer to analyse the individual parameters, and how they contribute to the final output, instead of starting with complex task like cat/dog image classification, which might be overwhelming.\n",
    "\n",
    "<p>Today, we will build a very simple neural network, to simlulate the binary full adder."
   ]
  },
  {
   "cell_type": "markdown",
   "execution_count": null,
   "metadata": {},
   "outputs": [],
   "source": [
    "## Binary Adder\n",
    "\n",
    "Binary Adders is a circuit to add two binary numbers.\n",
    "\n",
    "### Half Adder\n",
    "\n",
    "The Half Adder is used to add two binary bits. The half adder outputs a sum of the two inputs and a carry value.\n",
    "<p><img height=100 src=\"https://upload.wikimedia.org/wikipedia/commons/thumb/d/d9/Half_Adder.svg/360px-Half_Adder.svg.png\">\n",
    "\n",
    "### Full Adder\n",
    "\n",
    "A Full Adder can perform an addition operation on three bits. The full adder produces a sum of the three inputs and carry value. The carry value can then be used as one of the inputs to the next full adder. Using this unit in repeatition, two binary numbers of arbitrary length can be added.\n",
    "<p><img height=180 src=\"https://upload.wikimedia.org/wikipedia/commons/thumb/6/69/Full-adder_logic_diagram.svg/800px-Full-adder_logic_diagram.svg.png\">\n",
    "\n"
   ]
  },
  {
   "cell_type": "markdown",
   "execution_count": null,
   "metadata": {},
   "outputs": [],
   "source": [
    "## Logic Gates\n",
    "\n",
    "Some logic gates which have a linear decision boundary(eg. AND, OR, NAND, NOR) can be represented using a single neuron, where as some logic gates don't have a linear decision boundary(eg. XOR), require multiple neurons or layers.\n",
    "\n",
    "TODO: clarify the number of neurons required for different types of logic gates\n",
    "<p>\n",
    "TODO: insert images to show decision boundary of different gates"
   ]
  },
  {
   "cell_type": "markdown",
   "execution_count": null,
   "metadata": {},
   "outputs": [],
   "source": [
    "## Implementations\n",
    "\n",
    "We are going to use Keras (from Tensorflow 2) to impelement these circuits."
   ]
  },
  {
   "cell_type": "code",
   "execution_count": 1,
   "metadata": {},
   "outputs": [],
   "source": [
    "import numpy as np\n",
    "\n",
    "import tensorflow as tf\n",
    "from tensorflow.keras import layers, optimizers, losses, metrics, models\n",
    "\n",
    "np.random.seed(0)\n",
    "tf.random.set_seed(0)"
   ]
  },
  {
   "cell_type": "markdown",
   "execution_count": null,
   "metadata": {},
   "outputs": [],
   "source": [
    "## Dataset creation\n",
    "\n",
    "There are only 8 possible combination to inputs and ouputs. To create the dataset, we are going to repeat these unique samples."
   ]
  },
  {
   "cell_type": "code",
   "execution_count": 2,
   "metadata": {},
   "outputs": [],
   "source": [
    "n_samples = 100000//8"
   ]
  },
  {
   "cell_type": "code",
   "execution_count": 3,
   "metadata": {},
   "outputs": [],
   "source": [
    "x = np.array([[0, 0, 0], [0, 1, 0], [1, 0, 0], [1, 1, 0], [0, 0, 1], [0, 1, 1], [1, 0, 1], [1, 1, 1]] * n_samples) # a, b, c\n",
    "y = np.array([[0, 0], [0, 1], [0, 1], [1, 0], [0, 1], [1, 0], [1, 0], [1, 1]] * n_samples) # c, s"
   ]
  },
  {
   "cell_type": "markdown",
   "execution_count": null,
   "metadata": {},
   "outputs": [],
   "source": [
    "sk-learn provides great functionality to split the dataset into train and test samples."
   ]
  },
  {
   "cell_type": "code",
   "execution_count": 4,
   "metadata": {},
   "outputs": [],
   "source": [
    "from sklearn.model_selection import train_test_split\n",
    "\n",
    "x_train, x_test, y_train, y_test = train_test_split(x, y, test_size=0.1, shuffle=True)"
   ]
  },
  {
   "cell_type": "markdown",
   "execution_count": null,
   "metadata": {},
   "outputs": [],
   "source": [
    "## Model\n",
    "\n",
    "We model the problem as classification of sum bit (active/inactive) and carry bit (active/inactive).\n",
    "\n",
    "<p>\n",
    "Sequential model API provides an easy interface to create a model, where data flows sequentially through a stack of layers.\n",
    "\n",
    "TODO: justify dimension of layers"
   ]
  },
  {
   "cell_type": "code",
   "execution_count": 5,
   "metadata": {},
   "outputs": [
    {
     "name": "stdout",
     "output_type": "stream",
     "text": "Model: \"sequential\"\n_________________________________________________________________\nLayer (type)                 Output Shape              Param #   \n=================================================================\ndense (Dense)                (None, 3)                 12        \n_________________________________________________________________\ndense_1 (Dense)              (None, 2)                 8         \n=================================================================\nTotal params: 20\nTrainable params: 20\nNon-trainable params: 0\n_________________________________________________________________\n"
    }
   ],
   "source": [
    "model = tf.keras.Sequential()\n",
    "model.add(layers.Dense(units=3, activation='tanh', input_shape=(3, )))\n",
    "model.add(layers.Dense(units=2, activation='sigmoid'))\n",
    "\n",
    "model.summary()"
   ]
  },
  {
   "cell_type": "code",
   "execution_count": 6,
   "metadata": {},
   "outputs": [],
   "source": [
    "model.compile(loss='binary_crossentropy', optimizer='adam', metrics=['accuracy'])"
   ]
  },
  {
   "cell_type": "code",
   "execution_count": 7,
   "metadata": {},
   "outputs": [
    {
     "name": "stdout",
     "output_type": "stream",
     "text": "Train on 90000 samples\nEpoch 1/5\n90000/90000 [==============================] - 4s 40us/sample - loss: 0.4455 - accuracy: 0.8045\nEpoch 2/5\n90000/90000 [==============================] - 3s 34us/sample - loss: 0.1598 - accuracy: 0.9767\nEpoch 3/5\n90000/90000 [==============================] - 3s 34us/sample - loss: 0.0315 - accuracy: 1.0000\nEpoch 4/5\n90000/90000 [==============================] - 3s 37us/sample - loss: 0.0081 - accuracy: 1.0000\nEpoch 5/5\n90000/90000 [==============================] - 3s 34us/sample - loss: 0.0024 - accuracy: 1.0000\n10000/1 - 0s - loss: 0.0013 - accuracy: 1.0000\n[0.0012410348784178495, 1.0]\n"
    }
   ],
   "source": [
    "model.fit(x_train, y_train, batch_size=32, epochs=5)\n",
    "scores = model.evaluate(x_test, y_test, verbose=2)\n",
    "print(scores)"
   ]
  }
 ]
}